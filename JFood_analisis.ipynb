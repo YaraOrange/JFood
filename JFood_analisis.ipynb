{
  "nbformat": 4,
  "nbformat_minor": 0,
  "metadata": {
    "colab": {
      "provenance": []
    },
    "kernelspec": {
      "name": "python3",
      "display_name": "Python 3"
    },
    "language_info": {
      "name": "python"
    }
  },
  "cells": [
    {
      "cell_type": "code",
      "source": [
        "from google.colab import drive\n",
        "drive.mount('/content/drive')"
      ],
      "metadata": {
        "colab": {
          "base_uri": "https://localhost:8080/",
          "height": 0
        },
        "id": "qDZrXy3sHLwu",
        "outputId": "47814f14-e46e-4c57-b084-261c7672e799"
      },
      "execution_count": 2,
      "outputs": [
        {
          "output_type": "stream",
          "name": "stdout",
          "text": [
            "Mounted at /content/drive\n"
          ]
        }
      ]
    },
    {
      "cell_type": "code",
      "execution_count": 3,
      "metadata": {
        "id": "9hQ438h3GQ1q"
      },
      "outputs": [],
      "source": [
        "import pandas as pd"
      ]
    },
    {
      "cell_type": "code",
      "source": [
        "interactiondata = pd.read_csv(\"/content/drive/MyDrive/dataton/interactiondata_new.csv\")\n",
        "orderdata = pd.read_csv(\"/content/drive/MyDrive/dataton/orderdata_new.csv\")\n",
        "userdata = pd.read_csv(\"/content/drive/MyDrive/dataton/userdata_new.csv\")"
      ],
      "metadata": {
        "id": "1GV9PJscHboG"
      },
      "execution_count": 4,
      "outputs": []
    },
    {
      "cell_type": "markdown",
      "source": [
        "\n"
      ],
      "metadata": {
        "id": "vLW-W8pYUgas"
      }
    },
    {
      "cell_type": "code",
      "source": [],
      "metadata": {
        "id": "JPJU3-JOUenv"
      },
      "execution_count": 4,
      "outputs": []
    },
    {
      "cell_type": "code",
      "source": [
        "# ages = sorted(list(set(userdata[\"age\"])))\n",
        "# id_of_age = []\n",
        "# for age in ages:\n",
        "#   id_of_age.append(list(userdata[userdata[\"age\"] == age][\"userid\"]))"
      ],
      "metadata": {
        "id": "dPFDdhBvInVr"
      },
      "execution_count": 5,
      "outputs": []
    },
    {
      "cell_type": "code",
      "source": [
        "categories = list(set(orderdata[\"category\"]))"
      ],
      "metadata": {
        "id": "YjpfbkF3MpOO"
      },
      "execution_count": 68,
      "outputs": []
    },
    {
      "cell_type": "code",
      "source": [
        "orderdata[\"avg_bill\"] = orderdata[\"avg_bill\"].fillna(0)"
      ],
      "metadata": {
        "id": "sWoInSzeRpQj"
      },
      "execution_count": 7,
      "outputs": []
    },
    {
      "cell_type": "code",
      "source": [
        "# cat = dict()\n",
        "# for elem in categories:\n",
        "#   cat[elem] = orderdata[orderdata[\"category\"] == elem][\"avg_bill\"].mean()\n"
      ],
      "metadata": {
        "id": "lrmhSblFUiC7"
      },
      "execution_count": 8,
      "outputs": []
    },
    {
      "cell_type": "code",
      "source": [
        "orderdata = orderdata.merge(userdata, on=['userid'])"
      ],
      "metadata": {
        "id": "a-YAD9HgaLCW"
      },
      "execution_count": 9,
      "outputs": []
    },
    {
      "cell_type": "code",
      "source": [
        "# import matplotlib.pyplot as plt\n",
        "# for elem in categories:\n",
        "#   avg_cat = []\n",
        "#   for i in range(len(ages)):\n",
        "#     avg_cat.append(orderdata[(orderdata[\"userid\"].isin(id_of_age[i])) & (orderdata[\"category\"] == elem)][\"avg_bill\"].mean())\n",
        "\n",
        "#   plt.plot(ages, avg_cat)\n",
        "#   plt.title(elem)\n",
        "#   plt.savefig(\"/content/drive/MyDrive/dataton/\" + elem + \".png\")\n",
        "#   plt.show()"
      ],
      "metadata": {
        "collapsed": true,
        "id": "ZsGKAbv5i8iC"
      },
      "execution_count": 10,
      "outputs": []
    },
    {
      "cell_type": "code",
      "source": [
        "# avg_cat = []\n",
        "# for i in range(len(ages)):\n",
        "#   avg_cat.append(userdata[userdata[\"userid\"].isin(id_of_age[i])][\"avg_bill_all_cat\"].mean())\n",
        "# plt.plot(ages, avg_cat)\n",
        "# plt.title(\"all_cat\")\n",
        "# plt.show()"
      ],
      "metadata": {
        "id": "ztWjWqw4ZH8z"
      },
      "execution_count": 11,
      "outputs": []
    },
    {
      "cell_type": "code",
      "source": [
        "# pur cnt to education\n",
        "ed = sorted(list(set(miu[\"education\"])))\n",
        "ed_pur = []\n",
        "for elem in ed:\n",
        "  ed_pur.append(miu[miu[\"education\"] == elem][\"total_purchase\"].mean())\n",
        "plt.bar(ed, ed_pur)\n",
        "plt.ylabel(\"Среднее число покупок в месяц\")\n",
        "plt.title(\"education\")\n",
        "plt.show()"
      ],
      "metadata": {
        "id": "CggFsD3FG5d9",
        "colab": {
          "base_uri": "https://localhost:8080/",
          "height": 452
        },
        "outputId": "ea632531-7817-48a6-afbf-19628414af41"
      },
      "execution_count": 130,
      "outputs": [
        {
          "output_type": "display_data",
          "data": {
            "text/plain": [
              "<Figure size 640x480 with 1 Axes>"
            ],
            "image/png": "[encoded data removed]"
          },
          "metadata": {}
        }
      ]
    },
    {
      "cell_type": "code",
      "source": [
        "# pur cnt to marital\n",
        "ma = sorted(list(set(miu['marital'])))\n",
        "ma_pur = []\n",
        "for elem in ma:\n",
        "  ma_pur.append(miu[miu[\"marital\"] == elem][\"total_purchase\"].mean())\n",
        "plt.bar(ma, ma_pur)\n",
        "plt.ylabel(\"Среднее число покупок в месяц\")\n",
        "plt.title(\"marital\")\n",
        "plt.show()"
      ],
      "metadata": {
        "colab": {
          "base_uri": "https://localhost:8080/",
          "height": 452
        },
        "id": "xPo-KtYnkf4t",
        "outputId": "f0a0bb4d-a1e2-4690-bdfb-b506dbfbfbd5"
      },
      "execution_count": 128,
      "outputs": [
        {
          "output_type": "display_data",
          "data": {
            "text/plain": [
              "<Figure size 640x480 with 1 Axes>"
            ],
            "image/png": "[encoded data removed]"
          },
          "metadata": {}
        }
      ]
    },
    {
      "cell_type": "code",
      "source": [
        "miu[\"total_purchase\"] = miu['mobile_purchases_count_avg'] + miu['website_purchases_count_avg'] + miu['store_purchases_count_avg']"
      ],
      "metadata": {
        "id": "I8Iu_Wc_iP2_"
      },
      "execution_count": 124,
      "outputs": []
    },
    {
      "cell_type": "code",
      "source": [
        "#income\n",
        "incomes = [i for i in range(20000, 140000, 1000)]\n",
        "incomes1 = [i for i in range(20000, 140000, 15000)]\n",
        "income_cnt = []\n",
        "income_cnt1 = []\n",
        "for i in range(20000, 140000, 1000):\n",
        "  income_cnt.append(miu[(miu[\"income\"] > i) & (miu[\"income\"] <= i + 1000)][\"total_purchase\"].mean())\n",
        "for i in range(20000, 140000, 15000):\n",
        "  income_cnt1.append(miu[(miu[\"income\"] > i) & (miu[\"income\"] <= i + 15000)][\"total_purchase\"].mean())"
      ],
      "metadata": {
        "id": "ny-diZRnH4A8"
      },
      "execution_count": 136,
      "outputs": []
    },
    {
      "cell_type": "code",
      "source": [
        "plt.plot(incomes, income_cnt)\n",
        "plt.plot(incomes1, income_cnt1)\n",
        "plt.xlabel(\"Зарплата\")\n",
        "plt.ylabel(\"Среднее число покупок\")\n",
        "plt.show()"
      ],
      "metadata": {
        "id": "WS-1jh31JZis",
        "colab": {
          "base_uri": "https://localhost:8080/",
          "height": 449
        },
        "outputId": "0d95241d-18fd-4fa0-dea6-0a7cb2c81ca6"
      },
      "execution_count": 137,
      "outputs": [
        {
          "output_type": "display_data",
          "data": {
            "text/plain": [
              "<Figure size 640x480 with 1 Axes>"
            ],
            "image/png": "[encoded data removed]"
          },
          "metadata": {}
        }
      ]
    },
    {
      "cell_type": "code",
      "source": [],
      "metadata": {
        "id": "cUo20M19jMhu"
      },
      "execution_count": null,
      "outputs": []
    },
    {
      "cell_type": "code",
      "source": [
        "users = userdata[\"userid\"]\n",
        "avg_bill_all = []"
      ],
      "metadata": {
        "id": "5kglFvNbOsyf"
      },
      "execution_count": 18,
      "outputs": []
    },
    {
      "cell_type": "code",
      "source": [
        "for elem in users:\n",
        "  avg_bill_all.append(orderdata[orderdata[\"userid\"] == elem][\"avg_bill\"].sum())\n"
      ],
      "metadata": {
        "id": "QAbtRXDPNvn9"
      },
      "execution_count": 19,
      "outputs": []
    },
    {
      "cell_type": "code",
      "source": [
        "userdata[\"avg_bill_all_cat\"] = avg_bill_all"
      ],
      "metadata": {
        "id": "kd_-Lbb4Qql0"
      },
      "execution_count": 20,
      "outputs": []
    },
    {
      "cell_type": "code",
      "source": [
        "userdata[\"avg_bill_all_cat\"].mean()"
      ],
      "metadata": {
        "colab": {
          "base_uri": "https://localhost:8080/",
          "height": 0
        },
        "id": "wXhr0jcxRufa",
        "outputId": "781ac4c9-b869-4327-96fb-857448cb2ee9"
      },
      "execution_count": 21,
      "outputs": [
        {
          "output_type": "execute_result",
          "data": {
            "text/plain": [
              "2667.256168831169"
            ]
          },
          "metadata": {},
          "execution_count": 21
        }
      ]
    },
    {
      "cell_type": "code",
      "source": [
        "from datetime import datetime"
      ],
      "metadata": {
        "id": "e45CNvgzaDrV"
      },
      "execution_count": 22,
      "outputs": []
    },
    {
      "cell_type": "code",
      "source": [
        "last_order_dt_toordinal = [datetime.strptime(interactiondata[\"last_order_dt\"][i], \"%Y-%m-%d\").toordinal() for i in range(len(interactiondata))]"
      ],
      "metadata": {
        "id": "Uget_RwsatLU"
      },
      "execution_count": 23,
      "outputs": []
    },
    {
      "cell_type": "code",
      "source": [
        "interactiondata[\"last_order_dt_toordinal\"] = last_order_dt_toordinal"
      ],
      "metadata": {
        "id": "5hPKjEPLaHV_"
      },
      "execution_count": 24,
      "outputs": []
    },
    {
      "cell_type": "code",
      "source": [
        "interactiondata = interactiondata.rename(columns={\"UserId\": \"userid\"})"
      ],
      "metadata": {
        "id": "aA61MTAWcLgw"
      },
      "execution_count": 25,
      "outputs": []
    },
    {
      "cell_type": "code",
      "source": [
        "miu = userdata.merge(interactiondata, on=['userid']) #merge_inter_user"
      ],
      "metadata": {
        "id": "TAnVqbNrbrOY"
      },
      "execution_count": 26,
      "outputs": []
    },
    {
      "cell_type": "code",
      "source": [
        "day_x = datetime.strptime(\"2024-06-25\", \"%Y-%m-%d\").toordinal()"
      ],
      "metadata": {
        "id": "DEBaybvPc5A0"
      },
      "execution_count": 27,
      "outputs": []
    },
    {
      "cell_type": "code",
      "source": [
        "# leave_avg_bill = []\n",
        "# for i in range(739017, 739077, 7):\n",
        "#   leave_avg_bill.append(miu[(i <= miu[\"last_order_dt_toordinal\"]) & (miu[\"last_order_dt_toordinal\"] < i + 7)][\"avg_bill_all_cat\"].mean())"
      ],
      "metadata": {
        "id": "KzYbbUjJj3MB"
      },
      "execution_count": 28,
      "outputs": []
    },
    {
      "cell_type": "code",
      "source": [
        "# plt.plot([i for i in range(739017, 739077, 7)], leave_avg_bill)\n",
        "# plt.title(\"средний чек от дня, когда человек ушел\")\n",
        "# plt.show()"
      ],
      "metadata": {
        "id": "pHwnVkdKnx92"
      },
      "execution_count": 29,
      "outputs": []
    },
    {
      "cell_type": "code",
      "source": [
        "len(miu) #merged interactiondata & userdata"
      ],
      "metadata": {
        "colab": {
          "base_uri": "https://localhost:8080/",
          "height": 0
        },
        "id": "Fk0EcQGNd5rg",
        "outputId": "4a693c04-c445-4a44-cbaf-e25e6f35ab14"
      },
      "execution_count": 30,
      "outputs": [
        {
          "output_type": "execute_result",
          "data": {
            "text/plain": [
              "3021"
            ]
          },
          "metadata": {},
          "execution_count": 30
        }
      ]
    },
    {
      "cell_type": "code",
      "source": [
        "len(userdata)"
      ],
      "metadata": {
        "colab": {
          "base_uri": "https://localhost:8080/",
          "height": 0
        },
        "id": "A2zKz3HWd_DV",
        "outputId": "e13f4419-5d73-4ec9-dcee-608b2365bf49"
      },
      "execution_count": 31,
      "outputs": [
        {
          "output_type": "execute_result",
          "data": {
            "text/plain": [
              "3080"
            ]
          },
          "metadata": {},
          "execution_count": 31
        }
      ]
    },
    {
      "cell_type": "code",
      "source": [
        "interactiondata"
      ],
      "metadata": {
        "colab": {
          "base_uri": "https://localhost:8080/",
          "height": 964
        },
        "id": "hOQlKZhTeEwl",
        "outputId": "b0fed8f0-1e27-4f12-bd0d-85d6d452e625"
      },
      "execution_count": 32,
      "outputs": [
        {
          "output_type": "execute_result",
          "data": {
            "text/plain": [
              "      Unnamed: 0                                userid  complain_count  \\\n",
              "0              0  fa432faf-93f6-4dbf-ae14-8a8b681a106f               0   \n",
              "1              1  3146a104-ede9-4cbb-8869-b65cf60a35d0               0   \n",
              "2              2  191455cb-b4cc-4ef4-abf6-056349caf299               2   \n",
              "3              3  e0037cb7-8e9a-4adf-b03a-ea8d9bcb67e9               0   \n",
              "4              4  00c8adb8-4694-4137-a352-404bd16cd299               0   \n",
              "...          ...                                   ...             ...   \n",
              "3336        3400  21210d57-efad-46cc-82d8-4efc2475b681               2   \n",
              "3337        3401  010fe525-912c-4b69-8eca-2e9c719c1f97               1   \n",
              "3338        3402  c29d31be-8100-40e2-b547-b925da7d9a5c               0   \n",
              "3339        3403  a0c31e08-22eb-4ca9-aeb8-9c0a37d7b224               0   \n",
              "3340        3404  620aeec2-fbf3-4d85-a674-fcf362d8a56d               1   \n",
              "\n",
              "     last_order_dt  discount_purchases_count_avg  \\\n",
              "0       2024-06-22                             2   \n",
              "1       2024-05-17                             2   \n",
              "2       2024-05-27                             2   \n",
              "3       2024-06-03                             5   \n",
              "4       2024-07-02                             0   \n",
              "...            ...                           ...   \n",
              "3336    2024-07-04                             1   \n",
              "3337    2024-07-02                             0   \n",
              "3338    2024-07-04                             1   \n",
              "3339    2024-06-26                             4   \n",
              "3340    2024-07-02                             0   \n",
              "\n",
              "      catalogue_purchases_count_avg  store_purchases_count_avg  \\\n",
              "0                                 0                          4   \n",
              "1                                 0                          0   \n",
              "2                                 2                          8   \n",
              "3                                 0                          2   \n",
              "4                                 0                          2   \n",
              "...                             ...                        ...   \n",
              "3336                              9                          6   \n",
              "3337                              0                          1   \n",
              "3338                              0                          2   \n",
              "3339                              2                         12   \n",
              "3340                              0                          2   \n",
              "\n",
              "      website_purchases_count_avg  website_visit_count_avg  \\\n",
              "0                               3                        7   \n",
              "1                               2                        5   \n",
              "2                               6                        6   \n",
              "3                               1                        0   \n",
              "4                               0                        4   \n",
              "...                           ...                      ...   \n",
              "3336                            5                        2   \n",
              "3337                            1                        3   \n",
              "3338                            1                        7   \n",
              "3339                            5                        5   \n",
              "3340                            1                        5   \n",
              "\n",
              "      mobile_purchases_count_avg  mobile_visit_count_avg  \\\n",
              "0                             18                      33   \n",
              "1                              3                       1   \n",
              "2                              1                       1   \n",
              "3                              4                      41   \n",
              "4                              0                      39   \n",
              "...                          ...                     ...   \n",
              "3336                           3                       5   \n",
              "3337                           2                      24   \n",
              "3338                           4                       7   \n",
              "3339                          17                      31   \n",
              "3340                           2                      34   \n",
              "\n",
              "      marketing_company_outcome_1  marketing_company_outcome_2  \\\n",
              "0                               0                            0   \n",
              "1                               1                            1   \n",
              "2                               0                            0   \n",
              "3                               0                            0   \n",
              "4                               1                            0   \n",
              "...                           ...                          ...   \n",
              "3336                            0                            0   \n",
              "3337                            1                            1   \n",
              "3338                            0                            0   \n",
              "3339                            0                            0   \n",
              "3340                            0                            0   \n",
              "\n",
              "      marketing_company_outcome_3  marketing_company_outcome_4  \\\n",
              "0                               0                            0   \n",
              "1                               0                            1   \n",
              "2                               0                            0   \n",
              "3                               1                            1   \n",
              "4                               0                            1   \n",
              "...                           ...                          ...   \n",
              "3336                            0                            0   \n",
              "3337                            1                            1   \n",
              "3338                            0                            0   \n",
              "3339                            0                            0   \n",
              "3340                            1                            1   \n",
              "\n",
              "      marketing_company_outcome_5  last_order_dt_toordinal  \n",
              "0                               0                   739059  \n",
              "1                               0                   739023  \n",
              "2                               0                   739033  \n",
              "3                               1                   739040  \n",
              "4                               1                   739069  \n",
              "...                           ...                      ...  \n",
              "3336                            0                   739071  \n",
              "3337                            0                   739069  \n",
              "3338                            0                   739071  \n",
              "3339                            0                   739063  \n",
              "3340                            0                   739069  \n",
              "\n",
              "[3341 rows x 17 columns]"
            ],
            "text/html": [
              "\n",
              "  <div id=\"df-a29f7101-53b4-4787-9dfc-884b58598001\" class=\"colab-df-container\">\n",
              "    <div>\n",
              "<style scoped>\n",
              "    .dataframe tbody tr th:only-of-type {\n",
              "        vertical-align: middle;\n",
              "    }\n",
              "\n",
              "    .dataframe tbody tr th {\n",
              "        vertical-align: top;\n",
              "    }\n",
              "\n",
              "    .dataframe thead th {\n",
              "        text-align: right;\n",
              "    }\n",
              "</style>\n",
              "<table border=\"1\" class=\"dataframe\">\n",
              "  <thead>\n",
              "    <tr style=\"text-align: right;\">\n",
              "      <th></th>\n",
              "      <th>Unnamed: 0</th>\n",
              "      <th>userid</th>\n",
              "      <th>complain_count</th>\n",
              "      <th>last_order_dt</th>\n",
              "      <th>discount_purchases_count_avg</th>\n",
              "      <th>catalogue_purchases_count_avg</th>\n",
              "      <th>store_purchases_count_avg</th>\n",
              "      <th>website_purchases_count_avg</th>\n",
              "      <th>website_visit_count_avg</th>\n",
              "      <th>mobile_purchases_count_avg</th>\n",
              "      <th>mobile_visit_count_avg</th>\n",
              "      <th>marketing_company_outcome_1</th>\n",
              "      <th>marketing_company_outcome_2</th>\n",
              "      <th>marketing_company_outcome_3</th>\n",
              "      <th>marketing_company_outcome_4</th>\n",
              "      <th>marketing_company_outcome_5</th>\n",
              "      <th>last_order_dt_toordinal</th>\n",
              "    </tr>\n",
              "  </thead>\n",
              "  <tbody>\n",
              "    <tr>\n",
              "      <th>0</th>\n",
              "      <td>0</td>\n",
              "      <td>fa432faf-93f6-4dbf-ae14-8a8b681a106f</td>\n",
              "      <td>0</td>\n",
              "      <td>2024-06-22</td>\n",
              "      <td>2</td>\n",
              "      <td>0</td>\n",
              "      <td>4</td>\n",
              "      <td>3</td>\n",
              "      <td>7</td>\n",
              "      <td>18</td>\n",
              "      <td>33</td>\n",
              "      <td>0</td>\n",
              "      <td>0</td>\n",
              "      <td>0</td>\n",
              "      <td>0</td>\n",
              "      <td>0</td>\n",
              "      <td>739059</td>\n",
              "    </tr>\n",
              "    <tr>\n",
              "      <th>1</th>\n",
              "      <td>1</td>\n",
              "      <td>3146a104-ede9-4cbb-8869-b65cf60a35d0</td>\n",
              "      <td>0</td>\n",
              "      <td>2024-05-17</td>\n",
              "      <td>2</td>\n",
              "      <td>0</td>\n",
              "      <td>0</td>\n",
              "      <td>2</td>\n",
              "      <td>5</td>\n",
              "      <td>3</td>\n",
              "      <td>1</td>\n",
              "      <td>1</td>\n",
              "      <td>1</td>\n",
              "      <td>0</td>\n",
              "      <td>1</td>\n",
              "      <td>0</td>\n",
              "      <td>739023</td>\n",
              "    </tr>\n",
              "    <tr>\n",
              "      <th>2</th>\n",
              "      <td>2</td>\n",
              "      <td>191455cb-b4cc-4ef4-abf6-056349caf299</td>\n",
              "      <td>2</td>\n",
              "      <td>2024-05-27</td>\n",
              "      <td>2</td>\n",
              "      <td>2</td>\n",
              "      <td>8</td>\n",
              "      <td>6</td>\n",
              "      <td>6</td>\n",
              "      <td>1</td>\n",
              "      <td>1</td>\n",
              "      <td>0</td>\n",
              "      <td>0</td>\n",
              "      <td>0</td>\n",
              "      <td>0</td>\n",
              "      <td>0</td>\n",
              "      <td>739033</td>\n",
              "    </tr>\n",
              "    <tr>\n",
              "      <th>3</th>\n",
              "      <td>3</td>\n",
              "      <td>e0037cb7-8e9a-4adf-b03a-ea8d9bcb67e9</td>\n",
              "      <td>0</td>\n",
              "      <td>2024-06-03</td>\n",
              "      <td>5</td>\n",
              "      <td>0</td>\n",
              "      <td>2</td>\n",
              "      <td>1</td>\n",
              "      <td>0</td>\n",
              "      <td>4</td>\n",
              "      <td>41</td>\n",
              "      <td>0</td>\n",
              "      <td>0</td>\n",
              "      <td>1</td>\n",
              "      <td>1</td>\n",
              "      <td>1</td>\n",
              "      <td>739040</td>\n",
              "    </tr>\n",
              "    <tr>\n",
              "      <th>4</th>\n",
              "      <td>4</td>\n",
              "      <td>00c8adb8-4694-4137-a352-404bd16cd299</td>\n",
              "      <td>0</td>\n",
              "      <td>2024-07-02</td>\n",
              "      <td>0</td>\n",
              "      <td>0</td>\n",
              "      <td>2</td>\n",
              "      <td>0</td>\n",
              "      <td>4</td>\n",
              "      <td>0</td>\n",
              "      <td>39</td>\n",
              "      <td>1</td>\n",
              "      <td>0</td>\n",
              "      <td>0</td>\n",
              "      <td>1</td>\n",
              "      <td>1</td>\n",
              "      <td>739069</td>\n",
              "    </tr>\n",
              "    <tr>\n",
              "      <th>...</th>\n",
              "      <td>...</td>\n",
              "      <td>...</td>\n",
              "      <td>...</td>\n",
              "      <td>...</td>\n",
              "      <td>...</td>\n",
              "      <td>...</td>\n",
              "      <td>...</td>\n",
              "      <td>...</td>\n",
              "      <td>...</td>\n",
              "      <td>...</td>\n",
              "      <td>...</td>\n",
              "      <td>...</td>\n",
              "      <td>...</td>\n",
              "      <td>...</td>\n",
              "      <td>...</td>\n",
              "      <td>...</td>\n",
              "      <td>...</td>\n",
              "    </tr>\n",
              "    <tr>\n",
              "      <th>3336</th>\n",
              "      <td>3400</td>\n",
              "      <td>21210d57-efad-46cc-82d8-4efc2475b681</td>\n",
              "      <td>2</td>\n",
              "      <td>2024-07-04</td>\n",
              "      <td>1</td>\n",
              "      <td>9</td>\n",
              "      <td>6</td>\n",
              "      <td>5</td>\n",
              "      <td>2</td>\n",
              "      <td>3</td>\n",
              "      <td>5</td>\n",
              "      <td>0</td>\n",
              "      <td>0</td>\n",
              "      <td>0</td>\n",
              "      <td>0</td>\n",
              "      <td>0</td>\n",
              "      <td>739071</td>\n",
              "    </tr>\n",
              "    <tr>\n",
              "      <th>3337</th>\n",
              "      <td>3401</td>\n",
              "      <td>010fe525-912c-4b69-8eca-2e9c719c1f97</td>\n",
              "      <td>1</td>\n",
              "      <td>2024-07-02</td>\n",
              "      <td>0</td>\n",
              "      <td>0</td>\n",
              "      <td>1</td>\n",
              "      <td>1</td>\n",
              "      <td>3</td>\n",
              "      <td>2</td>\n",
              "      <td>24</td>\n",
              "      <td>1</td>\n",
              "      <td>1</td>\n",
              "      <td>1</td>\n",
              "      <td>1</td>\n",
              "      <td>0</td>\n",
              "      <td>739069</td>\n",
              "    </tr>\n",
              "    <tr>\n",
              "      <th>3338</th>\n",
              "      <td>3402</td>\n",
              "      <td>c29d31be-8100-40e2-b547-b925da7d9a5c</td>\n",
              "      <td>0</td>\n",
              "      <td>2024-07-04</td>\n",
              "      <td>1</td>\n",
              "      <td>0</td>\n",
              "      <td>2</td>\n",
              "      <td>1</td>\n",
              "      <td>7</td>\n",
              "      <td>4</td>\n",
              "      <td>7</td>\n",
              "      <td>0</td>\n",
              "      <td>0</td>\n",
              "      <td>0</td>\n",
              "      <td>0</td>\n",
              "      <td>0</td>\n",
              "      <td>739071</td>\n",
              "    </tr>\n",
              "    <tr>\n",
              "      <th>3339</th>\n",
              "      <td>3403</td>\n",
              "      <td>a0c31e08-22eb-4ca9-aeb8-9c0a37d7b224</td>\n",
              "      <td>0</td>\n",
              "      <td>2024-06-26</td>\n",
              "      <td>4</td>\n",
              "      <td>2</td>\n",
              "      <td>12</td>\n",
              "      <td>5</td>\n",
              "      <td>5</td>\n",
              "      <td>17</td>\n",
              "      <td>31</td>\n",
              "      <td>0</td>\n",
              "      <td>0</td>\n",
              "      <td>0</td>\n",
              "      <td>0</td>\n",
              "      <td>0</td>\n",
              "      <td>739063</td>\n",
              "    </tr>\n",
              "    <tr>\n",
              "      <th>3340</th>\n",
              "      <td>3404</td>\n",
              "      <td>620aeec2-fbf3-4d85-a674-fcf362d8a56d</td>\n",
              "      <td>1</td>\n",
              "      <td>2024-07-02</td>\n",
              "      <td>0</td>\n",
              "      <td>0</td>\n",
              "      <td>2</td>\n",
              "      <td>1</td>\n",
              "      <td>5</td>\n",
              "      <td>2</td>\n",
              "      <td>34</td>\n",
              "      <td>0</td>\n",
              "      <td>0</td>\n",
              "      <td>1</td>\n",
              "      <td>1</td>\n",
              "      <td>0</td>\n",
              "      <td>739069</td>\n",
              "    </tr>\n",
              "  </tbody>\n",
              "</table>\n",
              "<p>3341 rows × 17 columns</p>\n",
              "</div>\n",
              "    <div class=\"colab-df-buttons\">\n",
              "\n",
              "  <div class=\"colab-df-container\">\n",
              "    <button class=\"colab-df-convert\" onclick=\"convertToInteractive('df-a29f7101-53b4-4787-9dfc-884b58598001')\"\n",
              "            title=\"Convert this dataframe to an interactive table.\"\n",
              "            style=\"display:none;\">\n",
              "\n",
              "  <svg xmlns=\"http://www.w3.org/2000/svg\" height=\"24px\" viewBox=\"0 -960 960 960\">\n",
              "    <path d=\"M120-120v-720h720v720H120Zm60-500h600v-160H180v160Zm220 220h160v-160H400v160Zm0 220h160v-160H400v160ZM180-400h160v-160H180v160Zm440 0h160v-160H620v160ZM180-180h160v-160H180v160Zm440 0h160v-160H620v160Z\"/>\n",
              "  </svg>\n",
              "    </button>\n",
              "\n",
              "  <style>\n",
              "    .colab-df-container {\n",
              "      display:flex;\n",
              "      gap: 12px;\n",
              "    }\n",
              "\n",
              "    .colab-df-convert {\n",
              "      background-color: #E8F0FE;\n",
              "      border: none;\n",
              "      border-radius: 50%;\n",
              "      cursor: pointer;\n",
              "      display: none;\n",
              "      fill: #1967D2;\n",
              "      height: 32px;\n",
              "      padding: 0 0 0 0;\n",
              "      width: 32px;\n",
              "    }\n",
              "\n",
              "    .colab-df-convert:hover {\n",
              "      background-color: #E2EBFA;\n",
              "      box-shadow: 0px 1px 2px rgba(60, 64, 67, 0.3), 0px 1px 3px 1px rgba(60, 64, 67, 0.15);\n",
              "      fill: #174EA6;\n",
              "    }\n",
              "\n",
              "    .colab-df-buttons div {\n",
              "      margin-bottom: 4px;\n",
              "    }\n",
              "\n",
              "    [theme=dark] .colab-df-convert {\n",
              "      background-color: #3B4455;\n",
              "      fill: #D2E3FC;\n",
              "    }\n",
              "\n",
              "    [theme=dark] .colab-df-convert:hover {\n",
              "      background-color: #434B5C;\n",
              "      box-shadow: 0px 1px 3px 1px rgba(0, 0, 0, 0.15);\n",
              "      filter: drop-shadow(0px 1px 2px rgba(0, 0, 0, 0.3));\n",
              "      fill: #FFFFFF;\n",
              "    }\n",
              "  </style>\n",
              "\n",
              "    <script>\n",
              "      const buttonEl =\n",
              "        document.querySelector('#df-a29f7101-53b4-4787-9dfc-884b58598001 button.colab-df-convert');\n",
              "      buttonEl.style.display =\n",
              "        google.colab.kernel.accessAllowed ? 'block' : 'none';\n",
              "\n",
              "      async function convertToInteractive(key) {\n",
              "        const element = document.querySelector('#df-a29f7101-53b4-4787-9dfc-884b58598001');\n",
              "        const dataTable =\n",
              "          await google.colab.kernel.invokeFunction('convertToInteractive',\n",
              "                                                    [key], {});\n",
              "        if (!dataTable) return;\n",
              "\n",
              "        const docLinkHtml = 'Like what you see? Visit the ' +\n",
              "          '<a target=\"_blank\" href=https://colab.research.google.com/notebooks/data_table.ipynb>data table notebook</a>'\n",
              "          + ' to learn more about interactive tables.';\n",
              "        element.innerHTML = '';\n",
              "        dataTable['output_type'] = 'display_data';\n",
              "        await google.colab.output.renderOutput(dataTable, element);\n",
              "        const docLink = document.createElement('div');\n",
              "        docLink.innerHTML = docLinkHtml;\n",
              "        element.appendChild(docLink);\n",
              "      }\n",
              "    </script>\n",
              "  </div>\n",
              "\n",
              "\n",
              "<div id=\"df-c401f763-852c-484e-ae2f-1258699d07dc\">\n",
              "  <button class=\"colab-df-quickchart\" onclick=\"quickchart('df-c401f763-852c-484e-ae2f-1258699d07dc')\"\n",
              "            title=\"Suggest charts\"\n",
              "            style=\"display:none;\">\n",
              "\n",
              "<svg xmlns=\"http://www.w3.org/2000/svg\" height=\"24px\"viewBox=\"0 0 24 24\"\n",
              "     width=\"24px\">\n",
              "    <g>\n",
              "        <path d=\"M19 3H5c-1.1 0-2 .9-2 2v14c0 1.1.9 2 2 2h14c1.1 0 2-.9 2-2V5c0-1.1-.9-2-2-2zM9 17H7v-7h2v7zm4 0h-2V7h2v10zm4 0h-2v-4h2v4z\"/>\n",
              "    </g>\n",
              "</svg>\n",
              "  </button>\n",
              "\n",
              "<style>\n",
              "  .colab-df-quickchart {\n",
              "      --bg-color: #E8F0FE;\n",
              "      --fill-color: #1967D2;\n",
              "      --hover-bg-color: #E2EBFA;\n",
              "      --hover-fill-color: #174EA6;\n",
              "      --disabled-fill-color: #AAA;\n",
              "      --disabled-bg-color: #DDD;\n",
              "  }\n",
              "\n",
              "  [theme=dark] .colab-df-quickchart {\n",
              "      --bg-color: #3B4455;\n",
              "      --fill-color: #D2E3FC;\n",
              "      --hover-bg-color: #434B5C;\n",
              "      --hover-fill-color: #FFFFFF;\n",
              "      --disabled-bg-color: #3B4455;\n",
              "      --disabled-fill-color: #666;\n",
              "  }\n",
              "\n",
              "  .colab-df-quickchart {\n",
              "    background-color: var(--bg-color);\n",
              "    border: none;\n",
              "    border-radius: 50%;\n",
              "    cursor: pointer;\n",
              "    display: none;\n",
              "    fill: var(--fill-color);\n",
              "    height: 32px;\n",
              "    padding: 0;\n",
              "    width: 32px;\n",
              "  }\n",
              "\n",
              "  .colab-df-quickchart:hover {\n",
              "    background-color: var(--hover-bg-color);\n",
              "    box-shadow: 0 1px 2px rgba(60, 64, 67, 0.3), 0 1px 3px 1px rgba(60, 64, 67, 0.15);\n",
              "    fill: var(--button-hover-fill-color);\n",
              "  }\n",
              "\n",
              "  .colab-df-quickchart-complete:disabled,\n",
              "  .colab-df-quickchart-complete:disabled:hover {\n",
              "    background-color: var(--disabled-bg-color);\n",
              "    fill: var(--disabled-fill-color);\n",
              "    box-shadow: none;\n",
              "  }\n",
              "\n",
              "  .colab-df-spinner {\n",
              "    border: 2px solid var(--fill-color);\n",
              "    border-color: transparent;\n",
              "    border-bottom-color: var(--fill-color);\n",
              "    animation:\n",
              "      spin 1s steps(1) infinite;\n",
              "  }\n",
              "\n",
              "  @keyframes spin {\n",
              "    0% {\n",
              "      border-color: transparent;\n",
              "      border-bottom-color: var(--fill-color);\n",
              "      border-left-color: var(--fill-color);\n",
              "    }\n",
              "    20% {\n",
              "      border-color: transparent;\n",
              "      border-left-color: var(--fill-color);\n",
              "      border-top-color: var(--fill-color);\n",
              "    }\n",
              "    30% {\n",
              "      border-color: transparent;\n",
              "      border-left-color: var(--fill-color);\n",
              "      border-top-color: var(--fill-color);\n",
              "      border-right-color: var(--fill-color);\n",
              "    }\n",
              "    40% {\n",
              "      border-color: transparent;\n",
              "      border-right-color: var(--fill-color);\n",
              "      border-top-color: var(--fill-color);\n",
              "    }\n",
              "    60% {\n",
              "      border-color: transparent;\n",
              "      border-right-color: var(--fill-color);\n",
              "    }\n",
              "    80% {\n",
              "      border-color: transparent;\n",
              "      border-right-color: var(--fill-color);\n",
              "      border-bottom-color: var(--fill-color);\n",
              "    }\n",
              "    90% {\n",
              "      border-color: transparent;\n",
              "      border-bottom-color: var(--fill-color);\n",
              "    }\n",
              "  }\n",
              "</style>\n",
              "\n",
              "  <script>\n",
              "    async function quickchart(key) {\n",
              "      const quickchartButtonEl =\n",
              "        document.querySelector('#' + key + ' button');\n",
              "      quickchartButtonEl.disabled = true;  // To prevent multiple clicks.\n",
              "      quickchartButtonEl.classList.add('colab-df-spinner');\n",
              "      try {\n",
              "        const charts = await google.colab.kernel.invokeFunction(\n",
              "            'suggestCharts', [key], {});\n",
              "      } catch (error) {\n",
              "        console.error('Error during call to suggestCharts:', error);\n",
              "      }\n",
              "      quickchartButtonEl.classList.remove('colab-df-spinner');\n",
              "      quickchartButtonEl.classList.add('colab-df-quickchart-complete');\n",
              "    }\n",
              "    (() => {\n",
              "      let quickchartButtonEl =\n",
              "        document.querySelector('#df-c401f763-852c-484e-ae2f-1258699d07dc button');\n",
              "      quickchartButtonEl.style.display =\n",
              "        google.colab.kernel.accessAllowed ? 'block' : 'none';\n",
              "    })();\n",
              "  </script>\n",
              "</div>\n",
              "    </div>\n",
              "  </div>\n"
            ],
            "application/vnd.google.colaboratory.intrinsic+json": {
              "type": "dataframe",
              "variable_name": "interactiondata",
              "summary": "{\n  \"name\": \"interactiondata\",\n  \"rows\": 3341,\n  \"fields\": [\n    {\n      \"column\": \"Unnamed: 0\",\n      \"properties\": {\n        \"dtype\": \"number\",\n        \"std\": 982,\n        \"min\": 0,\n        \"max\": 3404,\n        \"num_unique_values\": 3341,\n        \"samples\": [\n          487,\n          2116,\n          720\n        ],\n        \"semantic_type\": \"\",\n        \"description\": \"\"\n      }\n    },\n    {\n      \"column\": \"userid\",\n      \"properties\": {\n        \"dtype\": \"string\",\n        \"num_unique_values\": 3341,\n        \"samples\": [\n          \"6ec5dc3f-d9aa-4313-ba4d-78ee293693e8\",\n          \"314f3cb9-7341-4ab0-a00c-95a3cc4671ef\",\n          \"5112b629-a950-41cc-90f7-3fb3b1bfef13\"\n        ],\n        \"semantic_type\": \"\",\n        \"description\": \"\"\n      }\n    },\n    {\n      \"column\": \"complain_count\",\n      \"properties\": {\n        \"dtype\": \"number\",\n        \"std\": 0,\n        \"min\": 0,\n        \"max\": 8,\n        \"num_unique_values\": 9,\n        \"samples\": [\n          8,\n          2,\n          4\n        ],\n        \"semantic_type\": \"\",\n        \"description\": \"\"\n      }\n    },\n    {\n      \"column\": \"last_order_dt\",\n      \"properties\": {\n        \"dtype\": \"object\",\n        \"num_unique_values\": 60,\n        \"samples\": [\n          \"2024-06-22\",\n          \"2024-05-25\",\n          \"2024-05-18\"\n        ],\n        \"semantic_type\": \"\",\n        \"description\": \"\"\n      }\n    },\n    {\n      \"column\": \"discount_purchases_count_avg\",\n      \"properties\": {\n        \"dtype\": \"number\",\n        \"std\": 5,\n        \"min\": 0,\n        \"max\": 29,\n        \"num_unique_values\": 30,\n        \"samples\": [\n          21,\n          28,\n          25\n        ],\n        \"semantic_type\": \"\",\n        \"description\": \"\"\n      }\n    },\n    {\n      \"column\": \"catalogue_purchases_count_avg\",\n      \"properties\": {\n        \"dtype\": \"number\",\n        \"std\": 2,\n        \"min\": -1,\n        \"max\": 28,\n        \"num_unique_values\": 14,\n        \"samples\": [\n          7,\n          11,\n          0\n        ],\n        \"semantic_type\": \"\",\n        \"description\": \"\"\n      }\n    },\n    {\n      \"column\": \"store_purchases_count_avg\",\n      \"properties\": {\n        \"dtype\": \"number\",\n        \"std\": 3,\n        \"min\": 0,\n        \"max\": 13,\n        \"num_unique_values\": 14,\n        \"samples\": [\n          10,\n          9,\n          4\n        ],\n        \"semantic_type\": \"\",\n        \"description\": \"\"\n      }\n    },\n    {\n      \"column\": \"website_purchases_count_avg\",\n      \"properties\": {\n        \"dtype\": \"number\",\n        \"std\": 2,\n        \"min\": -3,\n        \"max\": 27,\n        \"num_unique_values\": 18,\n        \"samples\": [\n          3,\n          2,\n          5\n        ],\n        \"semantic_type\": \"\",\n        \"description\": \"\"\n      }\n    },\n    {\n      \"column\": \"website_visit_count_avg\",\n      \"properties\": {\n        \"dtype\": \"number\",\n        \"std\": 3,\n        \"min\": 0,\n        \"max\": 20,\n        \"num_unique_values\": 21,\n        \"samples\": [\n          7,\n          10,\n          15\n        ],\n        \"semantic_type\": \"\",\n        \"description\": \"\"\n      }\n    },\n    {\n      \"column\": \"mobile_purchases_count_avg\",\n      \"properties\": {\n        \"dtype\": \"number\",\n        \"std\": 11,\n        \"min\": -2,\n        \"max\": 59,\n        \"num_unique_values\": 62,\n        \"samples\": [\n          37,\n          25,\n          18\n        ],\n        \"semantic_type\": \"\",\n        \"description\": \"\"\n      }\n    },\n    {\n      \"column\": \"mobile_visit_count_avg\",\n      \"properties\": {\n        \"dtype\": \"number\",\n        \"std\": 26,\n        \"min\": -3,\n        \"max\": 119,\n        \"num_unique_values\": 112,\n        \"samples\": [\n          107,\n          2,\n          16\n        ],\n        \"semantic_type\": \"\",\n        \"description\": \"\"\n      }\n    },\n    {\n      \"column\": \"marketing_company_outcome_1\",\n      \"properties\": {\n        \"dtype\": \"number\",\n        \"std\": 0,\n        \"min\": 0,\n        \"max\": 1,\n        \"num_unique_values\": 2,\n        \"samples\": [\n          1,\n          0\n        ],\n        \"semantic_type\": \"\",\n        \"description\": \"\"\n      }\n    },\n    {\n      \"column\": \"marketing_company_outcome_2\",\n      \"properties\": {\n        \"dtype\": \"number\",\n        \"std\": 0,\n        \"min\": 0,\n        \"max\": 1,\n        \"num_unique_values\": 2,\n        \"samples\": [\n          1,\n          0\n        ],\n        \"semantic_type\": \"\",\n        \"description\": \"\"\n      }\n    },\n    {\n      \"column\": \"marketing_company_outcome_3\",\n      \"properties\": {\n        \"dtype\": \"number\",\n        \"std\": 0,\n        \"min\": 0,\n        \"max\": 1,\n        \"num_unique_values\": 2,\n        \"samples\": [\n          1,\n          0\n        ],\n        \"semantic_type\": \"\",\n        \"description\": \"\"\n      }\n    },\n    {\n      \"column\": \"marketing_company_outcome_4\",\n      \"properties\": {\n        \"dtype\": \"number\",\n        \"std\": 0,\n        \"min\": 0,\n        \"max\": 1,\n        \"num_unique_values\": 2,\n        \"samples\": [\n          1,\n          0\n        ],\n        \"semantic_type\": \"\",\n        \"description\": \"\"\n      }\n    },\n    {\n      \"column\": \"marketing_company_outcome_5\",\n      \"properties\": {\n        \"dtype\": \"number\",\n        \"std\": 0,\n        \"min\": 0,\n        \"max\": 1,\n        \"num_unique_values\": 2,\n        \"samples\": [\n          1,\n          0\n        ],\n        \"semantic_type\": \"\",\n        \"description\": \"\"\n      }\n    },\n    {\n      \"column\": \"last_order_dt_toordinal\",\n      \"properties\": {\n        \"dtype\": \"number\",\n        \"std\": 16,\n        \"min\": 739017,\n        \"max\": 739076,\n        \"num_unique_values\": 60,\n        \"samples\": [\n          739059,\n          739031\n        ],\n        \"semantic_type\": \"\",\n        \"description\": \"\"\n      }\n    }\n  ]\n}"
            }
          },
          "metadata": {},
          "execution_count": 32
        }
      ]
    },
    {
      "cell_type": "code",
      "source": [
        "miu.columns"
      ],
      "metadata": {
        "colab": {
          "base_uri": "https://localhost:8080/",
          "height": 0
        },
        "id": "qVRpdbJvgGD3",
        "outputId": "61f0f0f6-a035-4b02-bb24-adbbabd0b531"
      },
      "execution_count": 33,
      "outputs": [
        {
          "output_type": "execute_result",
          "data": {
            "text/plain": [
              "Index(['Unnamed: 0_x', 'userid', 'join_datetime', 'age', 'income', 'kids',\n",
              "       'teenagers', 'marital', 'education', 'divorced', 'single', 'married',\n",
              "       'dating', 'widow', 'bachelor', 'masters', 'phd', 'basic', 'year',\n",
              "       'month', 'day', 'avg_bill_all_cat', 'Unnamed: 0_y', 'complain_count',\n",
              "       'last_order_dt', 'discount_purchases_count_avg',\n",
              "       'catalogue_purchases_count_avg', 'store_purchases_count_avg',\n",
              "       'website_purchases_count_avg', 'website_visit_count_avg',\n",
              "       'mobile_purchases_count_avg', 'mobile_visit_count_avg',\n",
              "       'marketing_company_outcome_1', 'marketing_company_outcome_2',\n",
              "       'marketing_company_outcome_3', 'marketing_company_outcome_4',\n",
              "       'marketing_company_outcome_5', 'last_order_dt_toordinal'],\n",
              "      dtype='object')"
            ]
          },
          "metadata": {},
          "execution_count": 33
        }
      ]
    },
    {
      "cell_type": "code",
      "source": [
        "cl1 = miu[miu[\"age\"] < 18]\n",
        "cl2 = miu[(miu[\"age\"] >= 18) & (miu[\"age\"] < 24)]\n",
        "cl3 = miu[(miu[\"age\"] >= 24) & (miu[\"age\"] < 31)]\n",
        "cl4 = miu[miu[\"age\"] >= 31]"
      ],
      "metadata": {
        "id": "7sSnaFSNgP_l"
      },
      "execution_count": 82,
      "outputs": []
    },
    {
      "cell_type": "code",
      "source": [
        "cl1 = cl1[(cl1['website_purchases_count_avg'] >= 0) & (cl1['mobile_purchases_count_avg'] >= 0) & (cl1['website_visit_count_avg'] >= 0) & (cl1['mobile_visit_count_avg'] >= 0)]\n",
        "cl2 = cl2[(cl2['website_purchases_count_avg'] >= 0) & (cl2['mobile_purchases_count_avg'] >= 0) & (cl2['website_visit_count_avg'] >= 0) & (cl2['mobile_visit_count_avg'] >= 0)]\n",
        "cl3 = cl3[(cl3['website_purchases_count_avg'] >= 0) & (cl3['mobile_purchases_count_avg'] >= 0) & (cl3['website_visit_count_avg'] >= 0) & (cl3['mobile_visit_count_avg'] >= 0)]\n",
        "cl4 = cl4[(cl4['website_purchases_count_avg'] >= 0) & (cl4['mobile_purchases_count_avg'] >= 0) & (cl4['website_visit_count_avg'] >= 0) & (cl4['mobile_visit_count_avg'] >= 0)]"
      ],
      "metadata": {
        "id": "DOz_vIxSLbhR"
      },
      "execution_count": 83,
      "outputs": []
    },
    {
      "cell_type": "code",
      "source": [
        "users = list(miu[\"userid\"])"
      ],
      "metadata": {
        "id": "_TAa2UCT0wha"
      },
      "execution_count": 84,
      "outputs": []
    },
    {
      "cell_type": "code",
      "source": [],
      "metadata": {
        "id": "8EtZfChK05Xs"
      },
      "execution_count": 35,
      "outputs": []
    },
    {
      "cell_type": "code",
      "source": [
        "cl1[\"conv_web\"] = cl1['website_purchases_count_avg'] / cl1['website_visit_count_avg']\n",
        "cl1[\"conv_mob\"] = cl1['mobile_purchases_count_avg'] / cl1['mobile_visit_count_avg']\n",
        "cl2[\"conv_web\"] = cl2['website_purchases_count_avg'] / cl2['website_visit_count_avg']\n",
        "cl2[\"conv_mob\"] = cl2['mobile_purchases_count_avg'] / cl2['mobile_visit_count_avg']\n",
        "cl3[\"conv_web\"] = cl3['website_purchases_count_avg'] / cl3['website_visit_count_avg']\n",
        "cl3[\"conv_mob\"] = cl3['mobile_purchases_count_avg'] / cl3['mobile_visit_count_avg']\n",
        "cl4[\"conv_web\"] = cl4['website_purchases_count_avg'] / cl4['website_visit_count_avg']\n",
        "cl4[\"conv_mob\"] = cl4['mobile_purchases_count_avg'] / cl4['mobile_visit_count_avg']"
      ],
      "metadata": {
        "id": "7WJMh8ymzJCm"
      },
      "execution_count": 85,
      "outputs": []
    },
    {
      "cell_type": "code",
      "source": [
        "import numpy as np"
      ],
      "metadata": {
        "id": "-bGRAejp1T0w"
      },
      "execution_count": 37,
      "outputs": []
    },
    {
      "cell_type": "code",
      "source": [
        "cl1.replace([np.inf , -np.inf ], 0 , inplace= True )\n",
        "cl2.replace([np.inf , -np.inf ], 0 , inplace= True )\n",
        "cl3.replace([np.inf , -np.inf ], 0 , inplace= True )\n",
        "cl4.replace([np.inf , -np.inf ], 0 , inplace= True )"
      ],
      "metadata": {
        "id": "9nFO2dD91Ox3"
      },
      "execution_count": 86,
      "outputs": []
    },
    {
      "cell_type": "code",
      "source": [
        "c = []"
      ],
      "metadata": {
        "id": "7ZpNvatVP5JO"
      },
      "execution_count": 63,
      "outputs": []
    },
    {
      "cell_type": "code",
      "source": [
        "c.append(cl1['website_purchases_count_avg'].mean() + cl1[\"mobile_purchases_count_avg\"].mean())\n",
        "c.append(cl2['website_purchases_count_avg'].mean() + cl2[\"mobile_purchases_count_avg\"].mean())\n",
        "c.append(cl3['website_purchases_count_avg'].mean() + cl3[\"mobile_purchases_count_avg\"].mean())\n",
        "c.append(cl4['website_purchases_count_avg'].mean() + cl4[\"mobile_purchases_count_avg\"].mean())"
      ],
      "metadata": {
        "id": "cCEWjNIXJwme"
      },
      "execution_count": 64,
      "outputs": []
    },
    {
      "cell_type": "code",
      "source": [],
      "metadata": {
        "id": "g10EHQyZdYyr"
      },
      "execution_count": null,
      "outputs": []
    },
    {
      "cell_type": "code",
      "source": [
        "list(cl3['website_visit_count_avg'])"
      ],
      "metadata": {
        "colab": {
          "base_uri": "https://localhost:8080/"
        },
        "id": "VFs_EIeJP3MC",
        "outputId": "05bc0b4a-e1e3-49cc-b894-85af3cc9e042"
      },
      "execution_count": 95,
      "outputs": [
        {
          "output_type": "execute_result",
          "data": {
            "text/plain": [
              "[2,\n",
              " 7,\n",
              " 1,\n",
              " 6,\n",
              " 8,\n",
              " 6,\n",
              " 5,\n",
              " 2,\n",
              " 19,\n",
              " 7,\n",
              " 4,\n",
              " 3,\n",
              " 5,\n",
              " 1,\n",
              " 4,\n",
              " 7,\n",
              " 7,\n",
              " 8,\n",
              " 2,\n",
              " 2,\n",
              " 4,\n",
              " 7,\n",
              " 9,\n",
              " 1,\n",
              " 6,\n",
              " 6,\n",
              " 7,\n",
              " 6,\n",
              " 3,\n",
              " 2,\n",
              " 2,\n",
              " 9,\n",
              " 5,\n",
              " 6,\n",
              " 6,\n",
              " 4,\n",
              " 1,\n",
              " 2,\n",
              " 5,\n",
              " 9,\n",
              " 2,\n",
              " 6,\n",
              " 1,\n",
              " 1,\n",
              " 3,\n",
              " 4,\n",
              " 8]"
            ]
          },
          "metadata": {},
          "execution_count": 95
        }
      ]
    },
    {
      "cell_type": "code",
      "source": [],
      "metadata": {
        "id": "idbir_hvPjVa"
      },
      "execution_count": null,
      "outputs": []
    },
    {
      "cell_type": "code",
      "source": [
        "import matplotlib.pyplot as plt\n",
        "labels = ['< 18', '18 - 23', '24 - 30', '30+']\n",
        "web = [cl1[\"conv_web\"].mean(), cl2[\"conv_web\"].mean(), cl3[\"conv_web\"].mean(), cl4[\"conv_web\"].mean()]\n",
        "mob = [cl1[\"conv_mob\"].mean(), cl2[\"conv_mob\"].mean(), cl3[\"conv_mob\"].mean(), cl4[\"conv_mob\"].mean()]"
      ],
      "metadata": {
        "id": "tTfrUZBfM2Xc"
      },
      "execution_count": 87,
      "outputs": []
    },
    {
      "cell_type": "code",
      "source": [
        "web"
      ],
      "metadata": {
        "colab": {
          "base_uri": "https://localhost:8080/"
        },
        "id": "U-FlFGNYdJBB",
        "outputId": "0fdb7296-ae0b-463f-c90c-bc1593ece6b5"
      },
      "execution_count": 88,
      "outputs": [
        {
          "output_type": "execute_result",
          "data": {
            "text/plain": [
              "[0.2764091771890732, 0.3658292189108111, 1.27629179331307, 1.0790254461572988]"
            ]
          },
          "metadata": {},
          "execution_count": 88
        }
      ]
    },
    {
      "cell_type": "code",
      "source": [
        "cl1[\"website_purchases_count_avg\"] + cl1[\"website_purchases_count_avg\"]"
      ],
      "metadata": {
        "colab": {
          "base_uri": "https://localhost:8080/"
        },
        "id": "La3XZcE5N2hE",
        "outputId": "11c7139d-ede3-49bb-f17c-3d4a0b33330d"
      },
      "execution_count": 58,
      "outputs": [
        {
          "output_type": "execute_result",
          "data": {
            "text/plain": [
              "[0.2181653315521197,\n",
              " 0.37238139744978693,\n",
              " 0.5641028719752896,\n",
              " 0.5865193188540492]"
            ]
          },
          "metadata": {},
          "execution_count": 58
        }
      ]
    },
    {
      "cell_type": "code",
      "source": [
        "cl2.mode().iloc[0]"
      ],
      "metadata": {
        "colab": {
          "base_uri": "https://localhost:8080/"
        },
        "collapsed": true,
        "id": "nVrj6YPEWdnR",
        "outputId": "b5e2957a-2d41-47ce-896a-f19d09148867"
      },
      "execution_count": 106,
      "outputs": [
        {
          "output_type": "execute_result",
          "data": {
            "text/plain": [
              "Unnamed: 0_x                                                        3\n",
              "userid                           001b4dc7-b42b-462b-b596-a1f2f5febe42\n",
              "join_datetime                                     2022-05-10 08:22:50\n",
              "age                                                              18.0\n",
              "income                                                        26747.0\n",
              "kids                                                              0.0\n",
              "teenagers                                                         0.0\n",
              "marital                                                        single\n",
              "education                                                    bachelor\n",
              "divorced                                                          0.0\n",
              "single                                                            1.0\n",
              "married                                                           0.0\n",
              "dating                                                            0.0\n",
              "widow                                                             0.0\n",
              "bachelor                                                          1.0\n",
              "masters                                                           0.0\n",
              "phd                                                               0.0\n",
              "basic                                                             0.0\n",
              "year                                                           2023.0\n",
              "month                                                             5.0\n",
              "day                                                              23.0\n",
              "avg_bill_all_cat                                               4213.0\n",
              "Unnamed: 0_y                                                       10\n",
              "complain_count                                                    0.0\n",
              "last_order_dt                                              2024-07-04\n",
              "discount_purchases_count_avg                                      1.0\n",
              "catalogue_purchases_count_avg                                     0.0\n",
              "store_purchases_count_avg                                         3.0\n",
              "website_purchases_count_avg                                       1.0\n",
              "website_visit_count_avg                                           8.0\n",
              "mobile_purchases_count_avg                                        2.0\n",
              "mobile_visit_count_avg                                           69.0\n",
              "marketing_company_outcome_1                                       0.0\n",
              "marketing_company_outcome_2                                       0.0\n",
              "marketing_company_outcome_3                                       1.0\n",
              "marketing_company_outcome_4                                       0.0\n",
              "marketing_company_outcome_5                                       0.0\n",
              "last_order_dt_toordinal                                      739071.0\n",
              "alcohol                                                           0.0\n",
              "other                                                             0.0\n",
              "fruits                                                            0.0\n",
              "vegetables                                                      462.0\n",
              "fish                                                              0.0\n",
              "meat                                                              0.0\n",
              "sweets                                                          252.0\n",
              "conv_web                                                          0.0\n",
              "conv_mob                                                          0.0\n",
              "Name: 0, dtype: object"
            ]
          },
          "metadata": {},
          "execution_count": 106
        }
      ]
    },
    {
      "cell_type": "code",
      "source": [
        "food = []\n",
        "for cat in categories:\n",
        "  categ = []\n",
        "  for id in list(miu[\"userid\"]):\n",
        "    avg_bill = list(orderdata[(orderdata[\"userid\"] == id) & (orderdata[\"category\"] == cat)][\"avg_bill\"])\n",
        "    categ.append(0 if len(avg_bill) == 0 else avg_bill[0])\n",
        "  food.append(categ)\n",
        "\n",
        "food"
      ],
      "metadata": {
        "id": "8LdLf1FPSx9p"
      },
      "execution_count": null,
      "outputs": []
    },
    {
      "cell_type": "code",
      "source": [
        "for i in range(len(categories)):\n",
        "  miu[categories[i]] = food[i]"
      ],
      "metadata": {
        "id": "e4JvLml8Y1uA"
      },
      "execution_count": 78,
      "outputs": []
    },
    {
      "cell_type": "code",
      "source": [
        "fig, ax = plt.subplots()\n",
        "ax.bar(labels, c)\n",
        "ax.set_title('среднее количество покупок на сайте и в приложении в месяц по кластерам ')\n",
        "plt.show()\n"
      ],
      "metadata": {
        "colab": {
          "base_uri": "https://localhost:8080/",
          "height": 452
        },
        "id": "-ILcOTveM4Rh",
        "outputId": "8f2583c6-e900-4d36-8036-58a72333880d"
      },
      "execution_count": 67,
      "outputs": [
        {
          "output_type": "display_data",
          "data": {
            "text/plain": [
              "<Figure size 640x480 with 1 Axes>"
            ],
            "image/png": "[encoded data removed]"
          },
          "metadata": {}
        }
      ]
    },
    {
      "cell_type": "code",
      "source": [
        "fig, ax = plt.subplots()\n",
        "ax.bar(labels, mob, label='Mobile')\n",
        "ax.set_title('Распределение конверсий по кластерам в приложении')\n",
        "plt.show()"
      ],
      "metadata": {
        "colab": {
          "base_uri": "https://localhost:8080/",
          "height": 452
        },
        "id": "xNqYNQ63Nlgf",
        "outputId": "d7d2c672-374c-47c5-b2e4-f95cabf650f0"
      },
      "execution_count": 56,
      "outputs": [
        {
          "output_type": "display_data",
          "data": {
            "text/plain": [
              "<Figure size 640x480 with 1 Axes>"
            ],
            "image/png": "[encoded data removed]"
          },
          "metadata": {}
        }
      ]
    },
    {
      "cell_type": "code",
      "source": [
        "miu[miu['age'] < 18]"
      ],
      "metadata": {
        "colab": {
          "base_uri": "https://localhost:8080/",
          "height": 981
        },
        "id": "JGVeZ9KXOUEF",
        "outputId": "5313befb-1c4c-4d38-f62c-6879e317bd48"
      },
      "execution_count": 121,
      "outputs": [
        {
          "output_type": "execute_result",
          "data": {
            "text/plain": [
              "      Unnamed: 0_x                                userid        join_datetime  \\\n",
              "3                4  06583f0c-f0b2-4f50-add5-5f16238b33bb  2022-08-22 00:24:55   \n",
              "25              27  e7713624-1f43-4864-bd9e-bffaccb9a585  2023-06-29 12:48:50   \n",
              "26              29  532892eb-8ab4-4a16-b0aa-86bfc32204bf  2023-08-07 05:22:53   \n",
              "36              40  78b72be6-8054-4ab1-b79a-9a5a0c7f3ce6  2022-12-15 06:41:12   \n",
              "37              41  fb893c64-56f5-4afb-ad45-0c4b69b54c53  2023-01-17 22:26:01   \n",
              "...            ...                                   ...                  ...   \n",
              "2994          3372  e76b01da-61df-47e5-bf69-31497f6e386a  2023-03-31 15:12:38   \n",
              "3006          3384  51773a75-1cd4-48b1-84d6-d56f9266a8ee  2023-06-25 21:05:45   \n",
              "3011          3391  4ceca5f7-7e83-4578-bd05-30f97c64da50  2022-07-01 04:00:40   \n",
              "3013          3395  bc821c4a-74e3-4c20-a9e6-cb4110cc7e2f  2022-10-18 16:00:46   \n",
              "3017          3400  8e05c000-746a-4aad-9e9f-4037998de319  2022-10-13 12:55:31   \n",
              "\n",
              "      age   income  kids  teenagers marital education  divorced  ...  \\\n",
              "3      16  26121.0     0          0  single   masters         0  ...   \n",
              "25     13  25729.0     0          0  single  bachelor         0  ...   \n",
              "26     16  26159.0     0          0  single   masters         0  ...   \n",
              "36     15  26921.0     0          0  single  bachelor         0  ...   \n",
              "37     11  25891.0     0          0  single   masters         0  ...   \n",
              "...   ...      ...   ...        ...     ...       ...       ...  ...   \n",
              "2994   14  26959.0     0          0  single   masters         0  ...   \n",
              "3006   16  26833.0     0          0  single   masters         0  ...   \n",
              "3011   16  26805.0     0          0  single   masters         0  ...   \n",
              "3013   12  25610.0     0          0  single     basic         0  ...   \n",
              "3017   15  26219.0     0          0  single   masters         0  ...   \n",
              "\n",
              "      marketing_company_outcome_5  last_order_dt_toordinal  alcohol  other  \\\n",
              "3                               1                   739069      0.0    9.0   \n",
              "25                              0                   739026      0.0   28.0   \n",
              "26                              1                   739030      0.0   28.0   \n",
              "36                              0                   739065      0.0   29.0   \n",
              "37                              1                   739068      0.0   11.0   \n",
              "...                           ...                      ...      ...    ...   \n",
              "2994                            0                   739066      0.0    6.0   \n",
              "3006                            1                   739021      0.0   21.0   \n",
              "3011                            1                   739053      0.0    9.0   \n",
              "3013                            1                   739018      0.0   12.0   \n",
              "3017                            0                   739046      0.0   22.0   \n",
              "\n",
              "      fruits  vegetables   fish   meat  sweets  total_purchase  \n",
              "3      570.0       277.0   54.0   36.0   252.0               5  \n",
              "25    1020.0       336.0    0.0   36.0   205.0               5  \n",
              "26       0.0         0.0  162.0   72.0   135.0               5  \n",
              "36     615.0       292.0    0.0  144.0   144.0               3  \n",
              "37     195.0       588.0  216.0   18.0   180.0               4  \n",
              "...      ...         ...    ...    ...     ...             ...  \n",
              "2994   885.0       292.0  162.0   72.0    77.0               0  \n",
              "3006   930.0       546.0  108.0   90.0   108.0               4  \n",
              "3011   705.0       126.0  162.0    0.0   174.0               5  \n",
              "3013   840.0       369.0   54.0  126.0   195.0               3  \n",
              "3017   600.0       504.0  162.0   18.0    49.0               3  \n",
              "\n",
              "[603 rows x 46 columns]"
            ],
            "text/html": [
              "\n",
              "  <div id=\"df-1eda0b75-a8f6-495a-956e-76cc961b550b\" class=\"colab-df-container\">\n",
              "    <div>\n",
              "<style scoped>\n",
              "    .dataframe tbody tr th:only-of-type {\n",
              "        vertical-align: middle;\n",
              "    }\n",
              "\n",
              "    .dataframe tbody tr th {\n",
              "        vertical-align: top;\n",
              "    }\n",
              "\n",
              "    .dataframe thead th {\n",
              "        text-align: right;\n",
              "    }\n",
              "</style>\n",
              "<table border=\"1\" class=\"dataframe\">\n",
              "  <thead>\n",
              "    <tr style=\"text-align: right;\">\n",
              "      <th></th>\n",
              "      <th>Unnamed: 0_x</th>\n",
              "      <th>userid</th>\n",
              "      <th>join_datetime</th>\n",
              "      <th>age</th>\n",
              "      <th>income</th>\n",
              "      <th>kids</th>\n",
              "      <th>teenagers</th>\n",
              "      <th>marital</th>\n",
              "      <th>education</th>\n",
              "      <th>divorced</th>\n",
              "      <th>...</th>\n",
              "      <th>marketing_company_outcome_5</th>\n",
              "      <th>last_order_dt_toordinal</th>\n",
              "      <th>alcohol</th>\n",
              "      <th>other</th>\n",
              "      <th>fruits</th>\n",
              "      <th>vegetables</th>\n",
              "      <th>fish</th>\n",
              "      <th>meat</th>\n",
              "      <th>sweets</th>\n",
              "      <th>total_purchase</th>\n",
              "    </tr>\n",
              "  </thead>\n",
              "  <tbody>\n",
              "    <tr>\n",
              "      <th>3</th>\n",
              "      <td>4</td>\n",
              "      <td>06583f0c-f0b2-4f50-add5-5f16238b33bb</td>\n",
              "      <td>2022-08-22 00:24:55</td>\n",
              "      <td>16</td>\n",
              "      <td>26121.0</td>\n",
              "      <td>0</td>\n",
              "      <td>0</td>\n",
              "      <td>single</td>\n",
              "      <td>masters</td>\n",
              "      <td>0</td>\n",
              "      <td>...</td>\n",
              "      <td>1</td>\n",
              "      <td>739069</td>\n",
              "      <td>0.0</td>\n",
              "      <td>9.0</td>\n",
              "      <td>570.0</td>\n",
              "      <td>277.0</td>\n",
              "      <td>54.0</td>\n",
              "      <td>36.0</td>\n",
              "      <td>252.0</td>\n",
              "      <td>5</td>\n",
              "    </tr>\n",
              "    <tr>\n",
              "      <th>25</th>\n",
              "      <td>27</td>\n",
              "      <td>e7713624-1f43-4864-bd9e-bffaccb9a585</td>\n",
              "      <td>2023-06-29 12:48:50</td>\n",
              "      <td>13</td>\n",
              "      <td>25729.0</td>\n",
              "      <td>0</td>\n",
              "      <td>0</td>\n",
              "      <td>single</td>\n",
              "      <td>bachelor</td>\n",
              "      <td>0</td>\n",
              "      <td>...</td>\n",
              "      <td>0</td>\n",
              "      <td>739026</td>\n",
              "      <td>0.0</td>\n",
              "      <td>28.0</td>\n",
              "      <td>1020.0</td>\n",
              "      <td>336.0</td>\n",
              "      <td>0.0</td>\n",
              "      <td>36.0</td>\n",
              "      <td>205.0</td>\n",
              "      <td>5</td>\n",
              "    </tr>\n",
              "    <tr>\n",
              "      <th>26</th>\n",
              "      <td>29</td>\n",
              "      <td>532892eb-8ab4-4a16-b0aa-86bfc32204bf</td>\n",
              "      <td>2023-08-07 05:22:53</td>\n",
              "      <td>16</td>\n",
              "      <td>26159.0</td>\n",
              "      <td>0</td>\n",
              "      <td>0</td>\n",
              "      <td>single</td>\n",
              "      <td>masters</td>\n",
              "      <td>0</td>\n",
              "      <td>...</td>\n",
              "      <td>1</td>\n",
              "      <td>739030</td>\n",
              "      <td>0.0</td>\n",
              "      <td>28.0</td>\n",
              "      <td>0.0</td>\n",
              "      <td>0.0</td>\n",
              "      <td>162.0</td>\n",
              "      <td>72.0</td>\n",
              "      <td>135.0</td>\n",
              "      <td>5</td>\n",
              "    </tr>\n",
              "    <tr>\n",
              "      <th>36</th>\n",
              "      <td>40</td>\n",
              "      <td>78b72be6-8054-4ab1-b79a-9a5a0c7f3ce6</td>\n",
              "      <td>2022-12-15 06:41:12</td>\n",
              "      <td>15</td>\n",
              "      <td>26921.0</td>\n",
              "      <td>0</td>\n",
              "      <td>0</td>\n",
              "      <td>single</td>\n",
              "      <td>bachelor</td>\n",
              "      <td>0</td>\n",
              "      <td>...</td>\n",
              "      <td>0</td>\n",
              "      <td>739065</td>\n",
              "      <td>0.0</td>\n",
              "      <td>29.0</td>\n",
              "      <td>615.0</td>\n",
              "      <td>292.0</td>\n",
              "      <td>0.0</td>\n",
              "      <td>144.0</td>\n",
              "      <td>144.0</td>\n",
              "      <td>3</td>\n",
              "    </tr>\n",
              "    <tr>\n",
              "      <th>37</th>\n",
              "      <td>41</td>\n",
              "      <td>fb893c64-56f5-4afb-ad45-0c4b69b54c53</td>\n",
              "      <td>2023-01-17 22:26:01</td>\n",
              "      <td>11</td>\n",
              "      <td>25891.0</td>\n",
              "      <td>0</td>\n",
              "      <td>0</td>\n",
              "      <td>single</td>\n",
              "      <td>masters</td>\n",
              "      <td>0</td>\n",
              "      <td>...</td>\n",
              "      <td>1</td>\n",
              "      <td>739068</td>\n",
              "      <td>0.0</td>\n",
              "      <td>11.0</td>\n",
              "      <td>195.0</td>\n",
              "      <td>588.0</td>\n",
              "      <td>216.0</td>\n",
              "      <td>18.0</td>\n",
              "      <td>180.0</td>\n",
              "      <td>4</td>\n",
              "    </tr>\n",
              "    <tr>\n",
              "      <th>...</th>\n",
              "      <td>...</td>\n",
              "      <td>...</td>\n",
              "      <td>...</td>\n",
              "      <td>...</td>\n",
              "      <td>...</td>\n",
              "      <td>...</td>\n",
              "      <td>...</td>\n",
              "      <td>...</td>\n",
              "      <td>...</td>\n",
              "      <td>...</td>\n",
              "      <td>...</td>\n",
              "      <td>...</td>\n",
              "      <td>...</td>\n",
              "      <td>...</td>\n",
              "      <td>...</td>\n",
              "      <td>...</td>\n",
              "      <td>...</td>\n",
              "      <td>...</td>\n",
              "      <td>...</td>\n",
              "      <td>...</td>\n",
              "      <td>...</td>\n",
              "    </tr>\n",
              "    <tr>\n",
              "      <th>2994</th>\n",
              "      <td>3372</td>\n",
              "      <td>e76b01da-61df-47e5-bf69-31497f6e386a</td>\n",
              "      <td>2023-03-31 15:12:38</td>\n",
              "      <td>14</td>\n",
              "      <td>26959.0</td>\n",
              "      <td>0</td>\n",
              "      <td>0</td>\n",
              "      <td>single</td>\n",
              "      <td>masters</td>\n",
              "      <td>0</td>\n",
              "      <td>...</td>\n",
              "      <td>0</td>\n",
              "      <td>739066</td>\n",
              "      <td>0.0</td>\n",
              "      <td>6.0</td>\n",
              "      <td>885.0</td>\n",
              "      <td>292.0</td>\n",
              "      <td>162.0</td>\n",
              "      <td>72.0</td>\n",
              "      <td>77.0</td>\n",
              "      <td>0</td>\n",
              "    </tr>\n",
              "    <tr>\n",
              "      <th>3006</th>\n",
              "      <td>3384</td>\n",
              "      <td>51773a75-1cd4-48b1-84d6-d56f9266a8ee</td>\n",
              "      <td>2023-06-25 21:05:45</td>\n",
              "      <td>16</td>\n",
              "      <td>26833.0</td>\n",
              "      <td>0</td>\n",
              "      <td>0</td>\n",
              "      <td>single</td>\n",
              "      <td>masters</td>\n",
              "      <td>0</td>\n",
              "      <td>...</td>\n",
              "      <td>1</td>\n",
              "      <td>739021</td>\n",
              "      <td>0.0</td>\n",
              "      <td>21.0</td>\n",
              "      <td>930.0</td>\n",
              "      <td>546.0</td>\n",
              "      <td>108.0</td>\n",
              "      <td>90.0</td>\n",
              "      <td>108.0</td>\n",
              "      <td>4</td>\n",
              "    </tr>\n",
              "    <tr>\n",
              "      <th>3011</th>\n",
              "      <td>3391</td>\n",
              "      <td>4ceca5f7-7e83-4578-bd05-30f97c64da50</td>\n",
              "      <td>2022-07-01 04:00:40</td>\n",
              "      <td>16</td>\n",
              "      <td>26805.0</td>\n",
              "      <td>0</td>\n",
              "      <td>0</td>\n",
              "      <td>single</td>\n",
              "      <td>masters</td>\n",
              "      <td>0</td>\n",
              "      <td>...</td>\n",
              "      <td>1</td>\n",
              "      <td>739053</td>\n",
              "      <td>0.0</td>\n",
              "      <td>9.0</td>\n",
              "      <td>705.0</td>\n",
              "      <td>126.0</td>\n",
              "      <td>162.0</td>\n",
              "      <td>0.0</td>\n",
              "      <td>174.0</td>\n",
              "      <td>5</td>\n",
              "    </tr>\n",
              "    <tr>\n",
              "      <th>3013</th>\n",
              "      <td>3395</td>\n",
              "      <td>bc821c4a-74e3-4c20-a9e6-cb4110cc7e2f</td>\n",
              "      <td>2022-10-18 16:00:46</td>\n",
              "      <td>12</td>\n",
              "      <td>25610.0</td>\n",
              "      <td>0</td>\n",
              "      <td>0</td>\n",
              "      <td>single</td>\n",
              "      <td>basic</td>\n",
              "      <td>0</td>\n",
              "      <td>...</td>\n",
              "      <td>1</td>\n",
              "      <td>739018</td>\n",
              "      <td>0.0</td>\n",
              "      <td>12.0</td>\n",
              "      <td>840.0</td>\n",
              "      <td>369.0</td>\n",
              "      <td>54.0</td>\n",
              "      <td>126.0</td>\n",
              "      <td>195.0</td>\n",
              "      <td>3</td>\n",
              "    </tr>\n",
              "    <tr>\n",
              "      <th>3017</th>\n",
              "      <td>3400</td>\n",
              "      <td>8e05c000-746a-4aad-9e9f-4037998de319</td>\n",
              "      <td>2022-10-13 12:55:31</td>\n",
              "      <td>15</td>\n",
              "      <td>26219.0</td>\n",
              "      <td>0</td>\n",
              "      <td>0</td>\n",
              "      <td>single</td>\n",
              "      <td>masters</td>\n",
              "      <td>0</td>\n",
              "      <td>...</td>\n",
              "      <td>0</td>\n",
              "      <td>739046</td>\n",
              "      <td>0.0</td>\n",
              "      <td>22.0</td>\n",
              "      <td>600.0</td>\n",
              "      <td>504.0</td>\n",
              "      <td>162.0</td>\n",
              "      <td>18.0</td>\n",
              "      <td>49.0</td>\n",
              "      <td>3</td>\n",
              "    </tr>\n",
              "  </tbody>\n",
              "</table>\n",
              "<p>603 rows × 46 columns</p>\n",
              "</div>\n",
              "    <div class=\"colab-df-buttons\">\n",
              "\n",
              "  <div class=\"colab-df-container\">\n",
              "    <button class=\"colab-df-convert\" onclick=\"convertToInteractive('df-1eda0b75-a8f6-495a-956e-76cc961b550b')\"\n",
              "            title=\"Convert this dataframe to an interactive table.\"\n",
              "            style=\"display:none;\">\n",
              "\n",
              "  <svg xmlns=\"http://www.w3.org/2000/svg\" height=\"24px\" viewBox=\"0 -960 960 960\">\n",
              "    <path d=\"M120-120v-720h720v720H120Zm60-500h600v-160H180v160Zm220 220h160v-160H400v160Zm0 220h160v-160H400v160ZM180-400h160v-160H180v160Zm440 0h160v-160H620v160ZM180-180h160v-160H180v160Zm440 0h160v-160H620v160Z\"/>\n",
              "  </svg>\n",
              "    </button>\n",
              "\n",
              "  <style>\n",
              "    .colab-df-container {\n",
              "      display:flex;\n",
              "      gap: 12px;\n",
              "    }\n",
              "\n",
              "    .colab-df-convert {\n",
              "      background-color: #E8F0FE;\n",
              "      border: none;\n",
              "      border-radius: 50%;\n",
              "      cursor: pointer;\n",
              "      display: none;\n",
              "      fill: #1967D2;\n",
              "      height: 32px;\n",
              "      padding: 0 0 0 0;\n",
              "      width: 32px;\n",
              "    }\n",
              "\n",
              "    .colab-df-convert:hover {\n",
              "      background-color: #E2EBFA;\n",
              "      box-shadow: 0px 1px 2px rgba(60, 64, 67, 0.3), 0px 1px 3px 1px rgba(60, 64, 67, 0.15);\n",
              "      fill: #174EA6;\n",
              "    }\n",
              "\n",
              "    .colab-df-buttons div {\n",
              "      margin-bottom: 4px;\n",
              "    }\n",
              "\n",
              "    [theme=dark] .colab-df-convert {\n",
              "      background-color: #3B4455;\n",
              "      fill: #D2E3FC;\n",
              "    }\n",
              "\n",
              "    [theme=dark] .colab-df-convert:hover {\n",
              "      background-color: #434B5C;\n",
              "      box-shadow: 0px 1px 3px 1px rgba(0, 0, 0, 0.15);\n",
              "      filter: drop-shadow(0px 1px 2px rgba(0, 0, 0, 0.3));\n",
              "      fill: #FFFFFF;\n",
              "    }\n",
              "  </style>\n",
              "\n",
              "    <script>\n",
              "      const buttonEl =\n",
              "        document.querySelector('#df-1eda0b75-a8f6-495a-956e-76cc961b550b button.colab-df-convert');\n",
              "      buttonEl.style.display =\n",
              "        google.colab.kernel.accessAllowed ? 'block' : 'none';\n",
              "\n",
              "      async function convertToInteractive(key) {\n",
              "        const element = document.querySelector('#df-1eda0b75-a8f6-495a-956e-76cc961b550b');\n",
              "        const dataTable =\n",
              "          await google.colab.kernel.invokeFunction('convertToInteractive',\n",
              "                                                    [key], {});\n",
              "        if (!dataTable) return;\n",
              "\n",
              "        const docLinkHtml = 'Like what you see? Visit the ' +\n",
              "          '<a target=\"_blank\" href=https://colab.research.google.com/notebooks/data_table.ipynb>data table notebook</a>'\n",
              "          + ' to learn more about interactive tables.';\n",
              "        element.innerHTML = '';\n",
              "        dataTable['output_type'] = 'display_data';\n",
              "        await google.colab.output.renderOutput(dataTable, element);\n",
              "        const docLink = document.createElement('div');\n",
              "        docLink.innerHTML = docLinkHtml;\n",
              "        element.appendChild(docLink);\n",
              "      }\n",
              "    </script>\n",
              "  </div>\n",
              "\n",
              "\n",
              "<div id=\"df-4870e505-e2a3-417f-bdb8-ca4bc950f728\">\n",
              "  <button class=\"colab-df-quickchart\" onclick=\"quickchart('df-4870e505-e2a3-417f-bdb8-ca4bc950f728')\"\n",
              "            title=\"Suggest charts\"\n",
              "            style=\"display:none;\">\n",
              "\n",
              "<svg xmlns=\"http://www.w3.org/2000/svg\" height=\"24px\"viewBox=\"0 0 24 24\"\n",
              "     width=\"24px\">\n",
              "    <g>\n",
              "        <path d=\"M19 3H5c-1.1 0-2 .9-2 2v14c0 1.1.9 2 2 2h14c1.1 0 2-.9 2-2V5c0-1.1-.9-2-2-2zM9 17H7v-7h2v7zm4 0h-2V7h2v10zm4 0h-2v-4h2v4z\"/>\n",
              "    </g>\n",
              "</svg>\n",
              "  </button>\n",
              "\n",
              "<style>\n",
              "  .colab-df-quickchart {\n",
              "      --bg-color: #E8F0FE;\n",
              "      --fill-color: #1967D2;\n",
              "      --hover-bg-color: #E2EBFA;\n",
              "      --hover-fill-color: #174EA6;\n",
              "      --disabled-fill-color: #AAA;\n",
              "      --disabled-bg-color: #DDD;\n",
              "  }\n",
              "\n",
              "  [theme=dark] .colab-df-quickchart {\n",
              "      --bg-color: #3B4455;\n",
              "      --fill-color: #D2E3FC;\n",
              "      --hover-bg-color: #434B5C;\n",
              "      --hover-fill-color: #FFFFFF;\n",
              "      --disabled-bg-color: #3B4455;\n",
              "      --disabled-fill-color: #666;\n",
              "  }\n",
              "\n",
              "  .colab-df-quickchart {\n",
              "    background-color: var(--bg-color);\n",
              "    border: none;\n",
              "    border-radius: 50%;\n",
              "    cursor: pointer;\n",
              "    display: none;\n",
              "    fill: var(--fill-color);\n",
              "    height: 32px;\n",
              "    padding: 0;\n",
              "    width: 32px;\n",
              "  }\n",
              "\n",
              "  .colab-df-quickchart:hover {\n",
              "    background-color: var(--hover-bg-color);\n",
              "    box-shadow: 0 1px 2px rgba(60, 64, 67, 0.3), 0 1px 3px 1px rgba(60, 64, 67, 0.15);\n",
              "    fill: var(--button-hover-fill-color);\n",
              "  }\n",
              "\n",
              "  .colab-df-quickchart-complete:disabled,\n",
              "  .colab-df-quickchart-complete:disabled:hover {\n",
              "    background-color: var(--disabled-bg-color);\n",
              "    fill: var(--disabled-fill-color);\n",
              "    box-shadow: none;\n",
              "  }\n",
              "\n",
              "  .colab-df-spinner {\n",
              "    border: 2px solid var(--fill-color);\n",
              "    border-color: transparent;\n",
              "    border-bottom-color: var(--fill-color);\n",
              "    animation:\n",
              "      spin 1s steps(1) infinite;\n",
              "  }\n",
              "\n",
              "  @keyframes spin {\n",
              "    0% {\n",
              "      border-color: transparent;\n",
              "      border-bottom-color: var(--fill-color);\n",
              "      border-left-color: var(--fill-color);\n",
              "    }\n",
              "    20% {\n",
              "      border-color: transparent;\n",
              "      border-left-color: var(--fill-color);\n",
              "      border-top-color: var(--fill-color);\n",
              "    }\n",
              "    30% {\n",
              "      border-color: transparent;\n",
              "      border-left-color: var(--fill-color);\n",
              "      border-top-color: var(--fill-color);\n",
              "      border-right-color: var(--fill-color);\n",
              "    }\n",
              "    40% {\n",
              "      border-color: transparent;\n",
              "      border-right-color: var(--fill-color);\n",
              "      border-top-color: var(--fill-color);\n",
              "    }\n",
              "    60% {\n",
              "      border-color: transparent;\n",
              "      border-right-color: var(--fill-color);\n",
              "    }\n",
              "    80% {\n",
              "      border-color: transparent;\n",
              "      border-right-color: var(--fill-color);\n",
              "      border-bottom-color: var(--fill-color);\n",
              "    }\n",
              "    90% {\n",
              "      border-color: transparent;\n",
              "      border-bottom-color: var(--fill-color);\n",
              "    }\n",
              "  }\n",
              "</style>\n",
              "\n",
              "  <script>\n",
              "    async function quickchart(key) {\n",
              "      const quickchartButtonEl =\n",
              "        document.querySelector('#' + key + ' button');\n",
              "      quickchartButtonEl.disabled = true;  // To prevent multiple clicks.\n",
              "      quickchartButtonEl.classList.add('colab-df-spinner');\n",
              "      try {\n",
              "        const charts = await google.colab.kernel.invokeFunction(\n",
              "            'suggestCharts', [key], {});\n",
              "      } catch (error) {\n",
              "        console.error('Error during call to suggestCharts:', error);\n",
              "      }\n",
              "      quickchartButtonEl.classList.remove('colab-df-spinner');\n",
              "      quickchartButtonEl.classList.add('colab-df-quickchart-complete');\n",
              "    }\n",
              "    (() => {\n",
              "      let quickchartButtonEl =\n",
              "        document.querySelector('#df-4870e505-e2a3-417f-bdb8-ca4bc950f728 button');\n",
              "      quickchartButtonEl.style.display =\n",
              "        google.colab.kernel.accessAllowed ? 'block' : 'none';\n",
              "    })();\n",
              "  </script>\n",
              "</div>\n",
              "    </div>\n",
              "  </div>\n"
            ],
            "application/vnd.google.colaboratory.intrinsic+json": {
              "type": "dataframe"
            }
          },
          "metadata": {},
          "execution_count": 121
        }
      ]
    }
  ]
}